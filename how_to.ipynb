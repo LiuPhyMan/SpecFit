{
 "cells": [
  {
   "cell_type": "code",
   "execution_count": 13,
   "metadata": {},
   "outputs": [],
   "source": [
    "import numpy as np\n",
    "from scipy.sparse import csr_matrix"
   ]
  },
  {
   "cell_type": "code",
   "execution_count": 40,
   "metadata": {},
   "outputs": [],
   "source": [
    "wv_exp = np.linspace(300, 322, num=5000)\n",
    "wv_lg = np.linspace(302, 320, num=500)"
   ]
  },
  {
   "cell_type": "code",
   "execution_count": 41,
   "metadata": {},
   "outputs": [
    {
     "data": {
      "text/plain": [
       "array([[ -2.        ,  -2.03607214,  -2.07214429, ..., -19.92785571,\n",
       "        -19.96392786, -20.        ],\n",
       "       [ -1.99559912,  -2.03167126,  -2.06774341, ..., -19.92345483,\n",
       "        -19.95952698, -19.99559912],\n",
       "       [ -1.99119824,  -2.02727038,  -2.06334253, ..., -19.91905395,\n",
       "        -19.9551261 , -19.99119824],\n",
       "       ...,\n",
       "       [ 19.99119824,  19.9551261 ,  19.91905395, ...,   2.06334253,\n",
       "          2.02727038,   1.99119824],\n",
       "       [ 19.99559912,  19.95952698,  19.92345483, ...,   2.06774341,\n",
       "          2.03167126,   1.99559912],\n",
       "       [ 20.        ,  19.96392786,  19.92785571, ...,   2.07214429,\n",
       "          2.03607214,   2.        ]])"
      ]
     },
     "execution_count": 41,
     "metadata": {},
     "output_type": "execute_result"
    }
   ],
   "source": [
    "delta_wv = wv_exp[np.newaxis].transpose() - wv_lg\n",
    "delta_wv"
   ]
  },
  {
   "cell_type": "code",
   "execution_count": 42,
   "metadata": {},
   "outputs": [
    {
     "data": {
      "text/plain": [
       "array([[0., 0., 0., ..., 0., 0., 0.],\n",
       "       [0., 0., 0., ..., 0., 0., 0.],\n",
       "       [0., 0., 0., ..., 0., 0., 0.],\n",
       "       ...,\n",
       "       [0., 0., 0., ..., 0., 0., 0.],\n",
       "       [0., 0., 0., ..., 0., 0., 0.],\n",
       "       [0., 0., 0., ..., 0., 0., 0.]])"
      ]
     },
     "execution_count": 42,
     "metadata": {},
     "output_type": "execute_result"
    }
   ],
   "source": [
    "fwhm = 0.1\n",
    "threshold = 3\n",
    "delta_wv[delta_wv<-fwhm*threshold] = 0\n",
    "delta_wv[delta_wv> fwhm*threshold] = 0\n",
    "delta_wv"
   ]
  },
  {
   "cell_type": "code",
   "execution_count": 43,
   "metadata": {},
   "outputs": [
    {
     "data": {
      "text/plain": [
       "<5000x500 sparse matrix of type '<class 'numpy.float64'>'\n",
       "\twith 68164 stored elements in Compressed Sparse Row format>"
      ]
     },
     "execution_count": 43,
     "metadata": {},
     "output_type": "execute_result"
    }
   ],
   "source": [
    "delta_wv = csr_matrix(delta_wv)\n",
    "delta_wv"
   ]
  },
  {
   "cell_type": "code",
   "execution_count": 44,
   "metadata": {},
   "outputs": [
    {
     "name": "stdout",
     "output_type": "stream",
     "text": [
      "89.4 µs ± 4.08 µs per loop (mean ± std. dev. of 7 runs, 10000 loops each)\n"
     ]
    }
   ],
   "source": [
    "%timeit delta_wv.expm1()"
   ]
  },
  {
   "cell_type": "code",
   "execution_count": 45,
   "metadata": {},
   "outputs": [
    {
     "name": "stdout",
     "output_type": "stream",
     "text": [
      "4.86 ms ± 132 µs per loop (mean ± std. dev. of 7 runs, 100 loops each)\n"
     ]
    }
   ],
   "source": [
    "delta_wv_array = delta_wv.toarray()\n",
    "%timeit np.exp(delta_wv_array)"
   ]
  },
  {
   "cell_type": "code",
   "execution_count": 46,
   "metadata": {},
   "outputs": [
    {
     "name": "stdout",
     "output_type": "stream",
     "text": [
      "31.7 µs ± 2.36 µs per loop (mean ± std. dev. of 7 runs, 10000 loops each)\n"
     ]
    }
   ],
   "source": [
    "%timeit np.exp(delta_wv.data)"
   ]
  },
  {
   "cell_type": "code",
   "execution_count": null,
   "metadata": {},
   "outputs": [],
   "source": []
  }
 ],
 "metadata": {
  "kernelspec": {
   "display_name": "Python 3",
   "language": "python",
   "name": "python3"
  },
  "language_info": {
   "codemirror_mode": {
    "name": "ipython",
    "version": 3
   },
   "file_extension": ".py",
   "mimetype": "text/x-python",
   "name": "python",
   "nbconvert_exporter": "python",
   "pygments_lexer": "ipython3",
   "version": "3.7.1"
  }
 },
 "nbformat": 4,
 "nbformat_minor": 2
}
