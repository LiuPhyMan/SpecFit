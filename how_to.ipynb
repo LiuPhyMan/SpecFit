{
 "cells": [
  {
   "cell_type": "code",
   "execution_count": 1,
   "metadata": {},
   "outputs": [],
   "source": [
    "import numpy as np\n",
    "from scipy.sparse import csr_matrix"
   ]
  },
  {
   "cell_type": "code",
   "execution_count": 2,
   "metadata": {},
   "outputs": [],
   "source": [
    "wv_exp = np.linspace(300, 322, num=5000)\n",
    "wv_lg = np.linspace(302, 320, num=500)"
   ]
  },
  {
   "cell_type": "code",
   "execution_count": 3,
   "metadata": {},
   "outputs": [
    {
     "data": {
      "text/plain": [
       "array([[ -2.        ,  -2.03607214,  -2.07214429, ..., -19.92785571,\n",
       "        -19.96392786, -20.        ],\n",
       "       [ -1.99559912,  -2.03167126,  -2.06774341, ..., -19.92345483,\n",
       "        -19.95952698, -19.99559912],\n",
       "       [ -1.99119824,  -2.02727038,  -2.06334253, ..., -19.91905395,\n",
       "        -19.9551261 , -19.99119824],\n",
       "       ...,\n",
       "       [ 19.99119824,  19.9551261 ,  19.91905395, ...,   2.06334253,\n",
       "          2.02727038,   1.99119824],\n",
       "       [ 19.99559912,  19.95952698,  19.92345483, ...,   2.06774341,\n",
       "          2.03167126,   1.99559912],\n",
       "       [ 20.        ,  19.96392786,  19.92785571, ...,   2.07214429,\n",
       "          2.03607214,   2.        ]])"
      ]
     },
     "execution_count": 3,
     "metadata": {},
     "output_type": "execute_result"
    }
   ],
   "source": [
    "delta_wv = wv_exp[np.newaxis].transpose() - wv_lg\n",
    "delta_wv"
   ]
  },
  {
   "cell_type": "code",
   "execution_count": 4,
   "metadata": {},
   "outputs": [
    {
     "data": {
      "text/plain": [
       "array([[0., 0., 0., ..., 0., 0., 0.],\n",
       "       [0., 0., 0., ..., 0., 0., 0.],\n",
       "       [0., 0., 0., ..., 0., 0., 0.],\n",
       "       ...,\n",
       "       [0., 0., 0., ..., 0., 0., 0.],\n",
       "       [0., 0., 0., ..., 0., 0., 0.],\n",
       "       [0., 0., 0., ..., 0., 0., 0.]])"
      ]
     },
     "execution_count": 4,
     "metadata": {},
     "output_type": "execute_result"
    }
   ],
   "source": [
    "fwhm = 0.1\n",
    "threshold = 3\n",
    "delta_wv[delta_wv<-fwhm*threshold] = 0\n",
    "delta_wv[delta_wv> fwhm*threshold] = 0\n",
    "delta_wv"
   ]
  },
  {
   "cell_type": "code",
   "execution_count": 5,
   "metadata": {},
   "outputs": [
    {
     "data": {
      "text/plain": [
       "<5000x500 sparse matrix of type '<class 'numpy.float64'>'\n",
       "\twith 68164 stored elements in Compressed Sparse Row format>"
      ]
     },
     "execution_count": 5,
     "metadata": {},
     "output_type": "execute_result"
    }
   ],
   "source": [
    "delta_wv = csr_matrix(delta_wv)\n",
    "delta_wv"
   ]
  },
  {
   "cell_type": "code",
   "execution_count": 6,
   "metadata": {},
   "outputs": [
    {
     "name": "stdout",
     "output_type": "stream",
     "text": [
      "76.2 µs ± 6.5 µs per loop (mean ± std. dev. of 7 runs, 10000 loops each)\n"
     ]
    }
   ],
   "source": [
    "%timeit delta_wv.expm1()"
   ]
  },
  {
   "cell_type": "code",
   "execution_count": 7,
   "metadata": {},
   "outputs": [
    {
     "name": "stdout",
     "output_type": "stream",
     "text": [
      "4.47 ms ± 93.4 µs per loop (mean ± std. dev. of 7 runs, 100 loops each)\n"
     ]
    }
   ],
   "source": [
    "delta_wv_array = delta_wv.toarray()\n",
    "%timeit np.exp(delta_wv_array)"
   ]
  },
  {
   "cell_type": "code",
   "execution_count": 8,
   "metadata": {},
   "outputs": [
    {
     "name": "stdout",
     "output_type": "stream",
     "text": [
      "22.5 µs ± 2.25 µs per loop (mean ± std. dev. of 7 runs, 10000 loops each)\n"
     ]
    }
   ],
   "source": [
    "%timeit np.exp(delta_wv.data)"
   ]
  },
  {
   "cell_type": "code",
   "execution_count": 14,
   "metadata": {},
   "outputs": [
    {
     "name": "stdout",
     "output_type": "stream",
     "text": [
      "2.96 ms ± 57.2 µs per loop (mean ± std. dev. of 7 runs, 100 loops each)\n"
     ]
    }
   ],
   "source": [
    "_where = np.logical_and(-fwhm*threshold<delta_wv_array, delta_wv_array<fwhm*threshold)\n",
    "a = np.zeros_like(delta_wv_array)\n",
    "%timeit np.exp(delta_wv_array, out=a, where=_where)"
   ]
  },
  {
   "cell_type": "markdown",
   "metadata": {},
   "source": [
    "**用where的方法效率很低，转换成稀疏矩阵**"
   ]
  },
  {
   "cell_type": "code",
   "execution_count": 15,
   "metadata": {},
   "outputs": [
    {
     "name": "stdout",
     "output_type": "stream",
     "text": [
      "17.6 ms ± 59 µs per loop (mean ± std. dev. of 7 runs, 100 loops each)\n"
     ]
    }
   ],
   "source": [
    "def func_where():\n",
    "    _where = np.logical_and(-fwhm*threshold<delta_wv_array, delta_wv_array<fwhm*threshold)\n",
    "    a = np.zeros_like(delta_wv_array)\n",
    "    np.exp(delta_wv_array, out=a, where=_where)\n",
    "%timeit func_where()"
   ]
  },
  {
   "cell_type": "code",
   "execution_count": 31,
   "metadata": {},
   "outputs": [
    {
     "name": "stdout",
     "output_type": "stream",
     "text": [
      "22.6 ms ± 893 µs per loop (mean ± std. dev. of 7 runs, 10 loops each)\n"
     ]
    }
   ],
   "source": [
    "_array = delta_wv.toarray()\n",
    "def func_sparse(_array):\n",
    "    _array[_array<-fwhm*threshold] = 0\n",
    "    _array[_array> fwhm*threshold] = 0\n",
    "    _array = csr_matrix(_array)\n",
    "    np.exp(_array.data)\n",
    "%timeit func_sparse(_array)"
   ]
  },
  {
   "cell_type": "code",
   "execution_count": 34,
   "metadata": {},
   "outputs": [],
   "source": [
    "delta_wv.data = delta_wv.data + 1"
   ]
  },
  {
   "cell_type": "code",
   "execution_count": null,
   "metadata": {},
   "outputs": [],
   "source": [
    "de"
   ]
  }
 ],
 "metadata": {
  "kernelspec": {
   "display_name": "Python 3",
   "language": "python",
   "name": "python3"
  },
  "language_info": {
   "codemirror_mode": {
    "name": "ipython",
    "version": 3
   },
   "file_extension": ".py",
   "mimetype": "text/x-python",
   "name": "python",
   "nbconvert_exporter": "python",
   "pygments_lexer": "ipython3",
   "version": "3.7.1"
  }
 },
 "nbformat": 4,
 "nbformat_minor": 2
}
